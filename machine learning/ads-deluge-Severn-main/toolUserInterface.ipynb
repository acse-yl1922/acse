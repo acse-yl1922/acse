{
 "cells": [
  {
   "cell_type": "code",
   "execution_count": 1,
   "metadata": {},
   "outputs": [],
   "source": [
    "from flood_tool.tool import Tool\n",
    "import pandas as pd\n",
    "import numpy as np\n",
    "from flood_tool import geo"
   ]
  },
  {
   "cell_type": "code",
   "execution_count": 2,
   "metadata": {},
   "outputs": [],
   "source": [
    "tool = Tool(\n",
    "    postcode_file='postcodes_unlabelled.csv', \n",
    "    sample_labels='postcodes_sampled.csv', \n",
    "    household_file='households_per_sector.csv'\n",
    ")"
   ]
  },
  {
   "cell_type": "code",
   "execution_count": 3,
   "metadata": {},
   "outputs": [
    {
     "data": {
      "text/html": [
       "<div>\n",
       "<style scoped>\n",
       "    .dataframe tbody tr th:only-of-type {\n",
       "        vertical-align: middle;\n",
       "    }\n",
       "\n",
       "    .dataframe tbody tr th {\n",
       "        vertical-align: top;\n",
       "    }\n",
       "\n",
       "    .dataframe thead th {\n",
       "        text-align: right;\n",
       "    }\n",
       "</style>\n",
       "<table border=\"1\" class=\"dataframe\">\n",
       "  <thead>\n",
       "    <tr style=\"text-align: right;\">\n",
       "      <th></th>\n",
       "      <th>postcode sector</th>\n",
       "      <th>households</th>\n",
       "      <th>number of postcode units</th>\n",
       "    </tr>\n",
       "  </thead>\n",
       "  <tbody>\n",
       "    <tr>\n",
       "      <th>0</th>\n",
       "      <td>AL1  1</td>\n",
       "      <td>2546</td>\n",
       "      <td>311</td>\n",
       "    </tr>\n",
       "    <tr>\n",
       "      <th>1</th>\n",
       "      <td>AL1  2</td>\n",
       "      <td>2642</td>\n",
       "      <td>236</td>\n",
       "    </tr>\n",
       "    <tr>\n",
       "      <th>2</th>\n",
       "      <td>AL1  3</td>\n",
       "      <td>2272</td>\n",
       "      <td>388</td>\n",
       "    </tr>\n",
       "    <tr>\n",
       "      <th>3</th>\n",
       "      <td>AL1  4</td>\n",
       "      <td>3707</td>\n",
       "      <td>339</td>\n",
       "    </tr>\n",
       "    <tr>\n",
       "      <th>4</th>\n",
       "      <td>AL1  5</td>\n",
       "      <td>4406</td>\n",
       "      <td>347</td>\n",
       "    </tr>\n",
       "  </tbody>\n",
       "</table>\n",
       "</div>"
      ],
      "text/plain": [
       "  postcode sector  households  number of postcode units\n",
       "0          AL1  1        2546                       311\n",
       "1          AL1  2        2642                       236\n",
       "2          AL1  3        2272                       388\n",
       "3          AL1  4        3707                       339\n",
       "4          AL1  5        4406                       347"
      ]
     },
     "execution_count": 3,
     "metadata": {},
     "output_type": "execute_result"
    }
   ],
   "source": [
    "tool.household_data.head()"
   ]
  },
  {
   "cell_type": "code",
   "execution_count": 4,
   "metadata": {},
   "outputs": [
    {
     "data": {
      "text/html": [
       "<div>\n",
       "<style scoped>\n",
       "    .dataframe tbody tr th:only-of-type {\n",
       "        vertical-align: middle;\n",
       "    }\n",
       "\n",
       "    .dataframe tbody tr th {\n",
       "        vertical-align: top;\n",
       "    }\n",
       "\n",
       "    .dataframe thead th {\n",
       "        text-align: right;\n",
       "    }\n",
       "</style>\n",
       "<table border=\"1\" class=\"dataframe\">\n",
       "  <thead>\n",
       "    <tr style=\"text-align: right;\">\n",
       "      <th></th>\n",
       "      <th>postcode</th>\n",
       "      <th>sector</th>\n",
       "      <th>easting</th>\n",
       "      <th>northing</th>\n",
       "      <th>localAuthority</th>\n",
       "      <th>altitude</th>\n",
       "      <th>soilType</th>\n",
       "      <th>riskLabel</th>\n",
       "      <th>medianPrice</th>\n",
       "    </tr>\n",
       "  </thead>\n",
       "  <tbody>\n",
       "    <tr>\n",
       "      <th>0</th>\n",
       "      <td>PO7 8PR</td>\n",
       "      <td>PO7 8</td>\n",
       "      <td>469395.0</td>\n",
       "      <td>108803.0</td>\n",
       "      <td>Havant</td>\n",
       "      <td>30</td>\n",
       "      <td>Planosols</td>\n",
       "      <td>1</td>\n",
       "      <td>233500.0</td>\n",
       "    </tr>\n",
       "    <tr>\n",
       "      <th>1</th>\n",
       "      <td>SO17 1NS</td>\n",
       "      <td>SO17 1</td>\n",
       "      <td>442771.0</td>\n",
       "      <td>114321.0</td>\n",
       "      <td>Southampton</td>\n",
       "      <td>20</td>\n",
       "      <td>Unsurveyed/Urban</td>\n",
       "      <td>1</td>\n",
       "      <td>291800.0</td>\n",
       "    </tr>\n",
       "    <tr>\n",
       "      <th>2</th>\n",
       "      <td>TN28 8XN</td>\n",
       "      <td>TN28 8</td>\n",
       "      <td>606861.0</td>\n",
       "      <td>124689.0</td>\n",
       "      <td>Folkestone and Hythe</td>\n",
       "      <td>10</td>\n",
       "      <td>Cambisols</td>\n",
       "      <td>1</td>\n",
       "      <td>326500.0</td>\n",
       "    </tr>\n",
       "    <tr>\n",
       "      <th>3</th>\n",
       "      <td>KT3 4JW</td>\n",
       "      <td>KT3 4</td>\n",
       "      <td>521649.0</td>\n",
       "      <td>168848.0</td>\n",
       "      <td>Kingston upon Thames</td>\n",
       "      <td>20</td>\n",
       "      <td>Unsurveyed/Urban</td>\n",
       "      <td>1</td>\n",
       "      <td>875200.0</td>\n",
       "    </tr>\n",
       "    <tr>\n",
       "      <th>4</th>\n",
       "      <td>CT2 8AA</td>\n",
       "      <td>CT2 8</td>\n",
       "      <td>614532.0</td>\n",
       "      <td>158074.0</td>\n",
       "      <td>Canterbury</td>\n",
       "      <td>10</td>\n",
       "      <td>Unsurveyed/Urban</td>\n",
       "      <td>10</td>\n",
       "      <td>303500.0</td>\n",
       "    </tr>\n",
       "  </tbody>\n",
       "</table>\n",
       "</div>"
      ],
      "text/plain": [
       "   postcode  sector   easting  northing        localAuthority  altitude  \\\n",
       "0   PO7 8PR   PO7 8  469395.0  108803.0                Havant        30   \n",
       "1  SO17 1NS  SO17 1  442771.0  114321.0           Southampton        20   \n",
       "2  TN28 8XN  TN28 8  606861.0  124689.0  Folkestone and Hythe        10   \n",
       "3   KT3 4JW   KT3 4  521649.0  168848.0  Kingston upon Thames        20   \n",
       "4   CT2 8AA   CT2 8  614532.0  158074.0            Canterbury        10   \n",
       "\n",
       "           soilType  riskLabel  medianPrice  \n",
       "0         Planosols          1     233500.0  \n",
       "1  Unsurveyed/Urban          1     291800.0  \n",
       "2         Cambisols          1     326500.0  \n",
       "3  Unsurveyed/Urban          1     875200.0  \n",
       "4  Unsurveyed/Urban         10     303500.0  "
      ]
     },
     "execution_count": 4,
     "metadata": {},
     "output_type": "execute_result"
    }
   ],
   "source": [
    "tool.postcode_sampled.head()"
   ]
  },
  {
   "cell_type": "code",
   "execution_count": 5,
   "metadata": {},
   "outputs": [
    {
     "data": {
      "text/html": [
       "<div>\n",
       "<style scoped>\n",
       "    .dataframe tbody tr th:only-of-type {\n",
       "        vertical-align: middle;\n",
       "    }\n",
       "\n",
       "    .dataframe tbody tr th {\n",
       "        vertical-align: top;\n",
       "    }\n",
       "\n",
       "    .dataframe thead th {\n",
       "        text-align: right;\n",
       "    }\n",
       "</style>\n",
       "<table border=\"1\" class=\"dataframe\">\n",
       "  <thead>\n",
       "    <tr style=\"text-align: right;\">\n",
       "      <th></th>\n",
       "      <th>postcode</th>\n",
       "      <th>sector</th>\n",
       "      <th>easting</th>\n",
       "      <th>northing</th>\n",
       "      <th>localAuthority</th>\n",
       "      <th>altitude</th>\n",
       "      <th>soilType</th>\n",
       "    </tr>\n",
       "  </thead>\n",
       "  <tbody>\n",
       "    <tr>\n",
       "      <th>0</th>\n",
       "      <td>BN1 5PF</td>\n",
       "      <td>BN1 5</td>\n",
       "      <td>530401.0</td>\n",
       "      <td>105619.0</td>\n",
       "      <td>Brighton and Hove</td>\n",
       "      <td>60</td>\n",
       "      <td>Unsurveyed/Urban</td>\n",
       "    </tr>\n",
       "    <tr>\n",
       "      <th>1</th>\n",
       "      <td>BN7 2HP</td>\n",
       "      <td>BN7 2</td>\n",
       "      <td>541934.0</td>\n",
       "      <td>110957.0</td>\n",
       "      <td>Lewes</td>\n",
       "      <td>10</td>\n",
       "      <td>Unsurveyed/Urban</td>\n",
       "    </tr>\n",
       "    <tr>\n",
       "      <th>2</th>\n",
       "      <td>TN6 3AW</td>\n",
       "      <td>TN6 3</td>\n",
       "      <td>552132.0</td>\n",
       "      <td>129270.0</td>\n",
       "      <td>Wealden</td>\n",
       "      <td>160</td>\n",
       "      <td>Unsurveyed/Urban</td>\n",
       "    </tr>\n",
       "    <tr>\n",
       "      <th>3</th>\n",
       "      <td>BN3 7LP</td>\n",
       "      <td>BN3 7</td>\n",
       "      <td>527448.0</td>\n",
       "      <td>106738.0</td>\n",
       "      <td>Brighton and Hove</td>\n",
       "      <td>60</td>\n",
       "      <td>Unsurveyed/Urban</td>\n",
       "    </tr>\n",
       "    <tr>\n",
       "      <th>4</th>\n",
       "      <td>DA16 2DU</td>\n",
       "      <td>DA16 2</td>\n",
       "      <td>546021.0</td>\n",
       "      <td>175403.0</td>\n",
       "      <td>Bexley</td>\n",
       "      <td>60</td>\n",
       "      <td>Unsurveyed/Urban</td>\n",
       "    </tr>\n",
       "  </tbody>\n",
       "</table>\n",
       "</div>"
      ],
      "text/plain": [
       "   postcode  sector   easting  northing     localAuthority  altitude  \\\n",
       "0   BN1 5PF   BN1 5  530401.0  105619.0  Brighton and Hove        60   \n",
       "1   BN7 2HP   BN7 2  541934.0  110957.0              Lewes        10   \n",
       "2   TN6 3AW   TN6 3  552132.0  129270.0            Wealden       160   \n",
       "3   BN3 7LP   BN3 7  527448.0  106738.0  Brighton and Hove        60   \n",
       "4  DA16 2DU  DA16 2  546021.0  175403.0             Bexley        60   \n",
       "\n",
       "           soilType  \n",
       "0  Unsurveyed/Urban  \n",
       "1  Unsurveyed/Urban  \n",
       "2  Unsurveyed/Urban  \n",
       "3  Unsurveyed/Urban  \n",
       "4  Unsurveyed/Urban  "
      ]
     },
     "execution_count": 5,
     "metadata": {},
     "output_type": "execute_result"
    }
   ],
   "source": [
    "tool.postcodedb.head()"
   ]
  },
  {
   "cell_type": "markdown",
   "metadata": {},
   "source": [
    "##### Optional: it might be wise to retrain the flood class model using randomized search when new sampled data is passed in, however this can take some time (up to 15-20 mins). comment or uncomment one of the lines depending which one you want to use. This may require restarting the kernel"
   ]
  },
  {
   "cell_type": "code",
   "execution_count": 3,
   "metadata": {},
   "outputs": [
    {
     "name": "stdout",
     "output_type": "stream",
     "text": [
      "Training flood class model\n",
      "==== Converting easting northing to lat long\n",
      "==== Fitting the data using random forest regressor\n",
      "Training local auth model\n",
      "Training median price model\n"
     ]
    },
    {
     "name": "stderr",
     "output_type": "stream",
     "text": [
      "/Users/cs1622/ads-deluge-Severn/flood_tool/median_price_model.py:41: SettingWithCopyWarning: \n",
      "A value is trying to be set on a copy of a slice from a DataFrame.\n",
      "Try using .loc[row_indexer,col_indexer] = value instead\n",
      "\n",
      "See the caveats in the documentation: https://pandas.pydata.org/pandas-docs/stable/user_guide/indexing.html#returning-a-view-versus-a-copy\n",
      "  X[\"latitude\"] = lat\n",
      "/Users/cs1622/ads-deluge-Severn/flood_tool/median_price_model.py:42: SettingWithCopyWarning: \n",
      "A value is trying to be set on a copy of a slice from a DataFrame.\n",
      "Try using .loc[row_indexer,col_indexer] = value instead\n",
      "\n",
      "See the caveats in the documentation: https://pandas.pydata.org/pandas-docs/stable/user_guide/indexing.html#returning-a-view-versus-a-copy\n",
      "  X[\"longitude\"] = lon\n"
     ]
    },
    {
     "name": "stdout",
     "output_type": "stream",
     "text": [
      "Training flood class from loc model\n",
      "====> fitting the flood class from location model\n"
     ]
    }
   ],
   "source": [
    "tool.train()\n",
    "# tool.train_flood_class_cv_optimization()"
   ]
  },
  {
   "cell_type": "markdown",
   "metadata": {},
   "source": [
    "##### example test data:"
   ]
  },
  {
   "cell_type": "code",
   "execution_count": 6,
   "metadata": {},
   "outputs": [],
   "source": [
    "postcodes = ['BN1 5PF', 'BN7 2HP']\n",
    "sectors = ['BN1 5', 'BN7 2']\n",
    "eastings = [541934.0, 552132.0]\n",
    "northings = [110957.0, 129270.0]\n",
    "latitudes = [50,51]\n",
    "longitudes = [1,2]\n"
   ]
  },
  {
   "cell_type": "markdown",
   "metadata": {},
   "source": [
    "#####   Get flood class from easting northing locations"
   ]
  },
  {
   "cell_type": "code",
   "execution_count": 5,
   "metadata": {},
   "outputs": [
    {
     "name": "stdout",
     "output_type": "stream",
     "text": [
      "====> generating predictions for flood class from location\n"
     ]
    },
    {
     "data": {
      "text/plain": [
       "(541934.0, 110957.0)    1\n",
       "(552132.0, 129270.0)    1\n",
       "dtype: int64"
      ]
     },
     "execution_count": 5,
     "metadata": {},
     "output_type": "execute_result"
    }
   ],
   "source": [
    "tool.get_flood_class_from_OSGB36_locations(eastings, northings)"
   ]
  },
  {
   "cell_type": "code",
   "execution_count": 7,
   "metadata": {},
   "outputs": [
    {
     "name": "stdout",
     "output_type": "stream",
     "text": [
      "====> fitting the flood class from location model\n",
      "====> generating predictions for flood class from location\n"
     ]
    },
    {
     "name": "stderr",
     "output_type": "stream",
     "text": [
      "/opt/homebrew/Caskroom/miniconda/base/envs/deluge/lib/python3.10/site-packages/sklearn/base.py:493: FutureWarning: The feature names should match those that were passed during fit. Starting version 1.2, an error will be raised.\n",
      "Feature names unseen at fit time:\n",
      "- latitude\n",
      "- longitude\n",
      "Feature names seen at fit time, yet now missing:\n",
      "- easting\n",
      "- northing\n",
      "\n",
      "  warnings.warn(message, FutureWarning)\n"
     ]
    },
    {
     "data": {
      "text/plain": [
       "(50, 1)    3\n",
       "(51, 2)    3\n",
       "dtype: int64"
      ]
     },
     "execution_count": 7,
     "metadata": {},
     "output_type": "execute_result"
    }
   ],
   "source": [
    "tool.get_flood_class_from_WGS84_locations(latitudes=latitudes, longitudes=longitudes)"
   ]
  },
  {
   "cell_type": "markdown",
   "metadata": {},
   "source": [
    "##### Get flood class from postcodes"
   ]
  },
  {
   "cell_type": "code",
   "execution_count": 9,
   "metadata": {},
   "outputs": [
    {
     "data": {
      "text/plain": [
       "BN1 5PF    0.010000\n",
       "BN7 2HP    1.478956\n",
       "dtype: float64"
      ]
     },
     "execution_count": 9,
     "metadata": {},
     "output_type": "execute_result"
    }
   ],
   "source": [
    "tool.get_flood_class_from_postcodes(postcodes)"
   ]
  },
  {
   "cell_type": "code",
   "execution_count": 10,
   "metadata": {},
   "outputs": [
    {
     "data": {
      "text/plain": [
       "BN1 5PF    567665.440159\n",
       "BN7 2HP    614543.011162\n",
       "dtype: float64"
      ]
     },
     "execution_count": 10,
     "metadata": {},
     "output_type": "execute_result"
    }
   ],
   "source": [
    "tool.get_median_house_price_estimate(postcodes)"
   ]
  },
  {
   "cell_type": "code",
   "execution_count": 11,
   "metadata": {},
   "outputs": [
    {
     "data": {
      "text/plain": [
       "BN1 5PF    567665.440159\n",
       "BN7 2HP    614543.011162\n",
       "dtype: float64"
      ]
     },
     "execution_count": 11,
     "metadata": {},
     "output_type": "execute_result"
    }
   ],
   "source": [
    "tool.get_total_value(postcodes)"
   ]
  },
  {
   "cell_type": "code",
   "execution_count": 12,
   "metadata": {},
   "outputs": [
    {
     "data": {
      "text/plain": [
       "BN1 5    2.315115e+09\n",
       "BN7 2    2.102573e+09\n",
       "dtype: float64"
      ]
     },
     "execution_count": 12,
     "metadata": {},
     "output_type": "execute_result"
    }
   ],
   "source": [
    "tool.get_total_value(sectors)"
   ]
  },
  {
   "cell_type": "code",
   "execution_count": 13,
   "metadata": {},
   "outputs": [
    {
     "data": {
      "text/plain": [
       "BN1 5PF      5676.654402\n",
       "BN7 2HP    908882.272535\n",
       "dtype: float64"
      ]
     },
     "execution_count": 13,
     "metadata": {},
     "output_type": "execute_result"
    }
   ],
   "source": [
    "tool.get_annual_flood_risk(postcodes)"
   ]
  },
  {
   "cell_type": "markdown",
   "metadata": {},
   "source": [
    "#### Get predictions for full set of unlabelled data"
   ]
  },
  {
   "cell_type": "code",
   "execution_count": 14,
   "metadata": {},
   "outputs": [
    {
     "name": "stdout",
     "output_type": "stream",
     "text": [
      "==== Generating prediction for flood class from postcodes\n"
     ]
    },
    {
     "data": {
      "text/html": [
       "<div>\n",
       "<style scoped>\n",
       "    .dataframe tbody tr th:only-of-type {\n",
       "        vertical-align: middle;\n",
       "    }\n",
       "\n",
       "    .dataframe tbody tr th {\n",
       "        vertical-align: top;\n",
       "    }\n",
       "\n",
       "    .dataframe thead th {\n",
       "        text-align: right;\n",
       "    }\n",
       "</style>\n",
       "<table border=\"1\" class=\"dataframe\">\n",
       "  <thead>\n",
       "    <tr style=\"text-align: right;\">\n",
       "      <th></th>\n",
       "      <th>postcode</th>\n",
       "      <th>sector</th>\n",
       "      <th>localAuthority</th>\n",
       "      <th>altitude</th>\n",
       "      <th>soilType</th>\n",
       "      <th>latitude</th>\n",
       "      <th>longitude</th>\n",
       "      <th>riskLabel</th>\n",
       "      <th>medianPrice</th>\n",
       "    </tr>\n",
       "  </thead>\n",
       "  <tbody>\n",
       "    <tr>\n",
       "      <th>0</th>\n",
       "      <td>BN1 5PF</td>\n",
       "      <td>BN1 5</td>\n",
       "      <td>Brighton and Hove</td>\n",
       "      <td>60</td>\n",
       "      <td>Unsurveyed/Urban</td>\n",
       "      <td>50.834677</td>\n",
       "      <td>-0.148139</td>\n",
       "      <td>1</td>\n",
       "      <td>567665.440159</td>\n",
       "    </tr>\n",
       "    <tr>\n",
       "      <th>1</th>\n",
       "      <td>BN7 2HP</td>\n",
       "      <td>BN7 2</td>\n",
       "      <td>Lewes</td>\n",
       "      <td>10</td>\n",
       "      <td>Unsurveyed/Urban</td>\n",
       "      <td>50.879937</td>\n",
       "      <td>0.017610</td>\n",
       "      <td>3</td>\n",
       "      <td>614543.011162</td>\n",
       "    </tr>\n",
       "    <tr>\n",
       "      <th>2</th>\n",
       "      <td>TN6 3AW</td>\n",
       "      <td>TN6 3</td>\n",
       "      <td>Wealden</td>\n",
       "      <td>160</td>\n",
       "      <td>Unsurveyed/Urban</td>\n",
       "      <td>51.041906</td>\n",
       "      <td>0.170125</td>\n",
       "      <td>1</td>\n",
       "      <td>695300.000000</td>\n",
       "    </tr>\n",
       "    <tr>\n",
       "      <th>3</th>\n",
       "      <td>BN3 7LP</td>\n",
       "      <td>BN3 7</td>\n",
       "      <td>Brighton and Hove</td>\n",
       "      <td>60</td>\n",
       "      <td>Unsurveyed/Urban</td>\n",
       "      <td>50.845393</td>\n",
       "      <td>-0.189664</td>\n",
       "      <td>1</td>\n",
       "      <td>486309.406243</td>\n",
       "    </tr>\n",
       "    <tr>\n",
       "      <th>4</th>\n",
       "      <td>DA16 2DU</td>\n",
       "      <td>DA16 2</td>\n",
       "      <td>Bexley</td>\n",
       "      <td>60</td>\n",
       "      <td>Unsurveyed/Urban</td>\n",
       "      <td>51.458048</td>\n",
       "      <td>0.101839</td>\n",
       "      <td>1</td>\n",
       "      <td>434625.845110</td>\n",
       "    </tr>\n",
       "    <tr>\n",
       "      <th>...</th>\n",
       "      <td>...</td>\n",
       "      <td>...</td>\n",
       "      <td>...</td>\n",
       "      <td>...</td>\n",
       "      <td>...</td>\n",
       "      <td>...</td>\n",
       "      <td>...</td>\n",
       "      <td>...</td>\n",
       "      <td>...</td>\n",
       "    </tr>\n",
       "    <tr>\n",
       "      <th>4995</th>\n",
       "      <td>N17 9XJ</td>\n",
       "      <td>N17 9</td>\n",
       "      <td>Haringey</td>\n",
       "      <td>10</td>\n",
       "      <td>Unsurveyed/Urban</td>\n",
       "      <td>51.598652</td>\n",
       "      <td>-0.055595</td>\n",
       "      <td>6</td>\n",
       "      <td>528861.033504</td>\n",
       "    </tr>\n",
       "    <tr>\n",
       "      <th>4996</th>\n",
       "      <td>E9 6SG</td>\n",
       "      <td>E9 6</td>\n",
       "      <td>Hackney</td>\n",
       "      <td>10</td>\n",
       "      <td>Unsurveyed/Urban</td>\n",
       "      <td>51.543341</td>\n",
       "      <td>-0.046618</td>\n",
       "      <td>1</td>\n",
       "      <td>551708.081397</td>\n",
       "    </tr>\n",
       "    <tr>\n",
       "      <th>4997</th>\n",
       "      <td>CT6 8TB</td>\n",
       "      <td>CT6 8</td>\n",
       "      <td>Canterbury</td>\n",
       "      <td>10</td>\n",
       "      <td>Unsurveyed/Urban</td>\n",
       "      <td>51.370422</td>\n",
       "      <td>1.120780</td>\n",
       "      <td>5</td>\n",
       "      <td>301870.580824</td>\n",
       "    </tr>\n",
       "    <tr>\n",
       "      <th>4998</th>\n",
       "      <td>KT17 1XX</td>\n",
       "      <td>KT17 1</td>\n",
       "      <td>Epsom and Ewell</td>\n",
       "      <td>40</td>\n",
       "      <td>Unsurveyed/Urban</td>\n",
       "      <td>51.345942</td>\n",
       "      <td>-0.252416</td>\n",
       "      <td>1</td>\n",
       "      <td>555390.282128</td>\n",
       "    </tr>\n",
       "    <tr>\n",
       "      <th>4999</th>\n",
       "      <td>TW17 0DF</td>\n",
       "      <td>TW17 0</td>\n",
       "      <td>Spelthorne</td>\n",
       "      <td>10</td>\n",
       "      <td>Unsurveyed/Urban</td>\n",
       "      <td>51.400489</td>\n",
       "      <td>-0.461228</td>\n",
       "      <td>6</td>\n",
       "      <td>443825.263509</td>\n",
       "    </tr>\n",
       "  </tbody>\n",
       "</table>\n",
       "<p>5000 rows × 9 columns</p>\n",
       "</div>"
      ],
      "text/plain": [
       "      postcode  sector     localAuthority  altitude          soilType  \\\n",
       "0      BN1 5PF   BN1 5  Brighton and Hove        60  Unsurveyed/Urban   \n",
       "1      BN7 2HP   BN7 2              Lewes        10  Unsurveyed/Urban   \n",
       "2      TN6 3AW   TN6 3            Wealden       160  Unsurveyed/Urban   \n",
       "3      BN3 7LP   BN3 7  Brighton and Hove        60  Unsurveyed/Urban   \n",
       "4     DA16 2DU  DA16 2             Bexley        60  Unsurveyed/Urban   \n",
       "...        ...     ...                ...       ...               ...   \n",
       "4995   N17 9XJ   N17 9           Haringey        10  Unsurveyed/Urban   \n",
       "4996    E9 6SG    E9 6            Hackney        10  Unsurveyed/Urban   \n",
       "4997   CT6 8TB   CT6 8         Canterbury        10  Unsurveyed/Urban   \n",
       "4998  KT17 1XX  KT17 1    Epsom and Ewell        40  Unsurveyed/Urban   \n",
       "4999  TW17 0DF  TW17 0         Spelthorne        10  Unsurveyed/Urban   \n",
       "\n",
       "       latitude  longitude  riskLabel    medianPrice  \n",
       "0     50.834677  -0.148139          1  567665.440159  \n",
       "1     50.879937   0.017610          3  614543.011162  \n",
       "2     51.041906   0.170125          1  695300.000000  \n",
       "3     50.845393  -0.189664          1  486309.406243  \n",
       "4     51.458048   0.101839          1  434625.845110  \n",
       "...         ...        ...        ...            ...  \n",
       "4995  51.598652  -0.055595          6  528861.033504  \n",
       "4996  51.543341  -0.046618          1  551708.081397  \n",
       "4997  51.370422   1.120780          5  301870.580824  \n",
       "4998  51.345942  -0.252416          1  555390.282128  \n",
       "4999  51.400489  -0.461228          6  443825.263509  \n",
       "\n",
       "[5000 rows x 9 columns]"
      ]
     },
     "execution_count": 14,
     "metadata": {},
     "output_type": "execute_result"
    }
   ],
   "source": [
    "postcode_unlabelled = tool.postcodedb.copy()\n",
    "\n",
    "easting, northing = np.array(postcode_unlabelled['easting']), np.array(postcode_unlabelled['northing'])\n",
    "\n",
    "lat, long = geo.get_gps_lat_long_from_easting_northing(easting, northing)\n",
    "\n",
    "postcode_unlabelled['latitude'] = lat\n",
    "postcode_unlabelled['longitude'] = long\n",
    "postcode_unlabelled = postcode_unlabelled.drop(columns=['easting', 'northing'])\n",
    "tool.get_predicitions_for_unlabelled_data(postcode_unlabelled)"
   ]
  }
 ],
 "metadata": {
  "kernelspec": {
   "display_name": "Python 3.10.8 ('deluge')",
   "language": "python",
   "name": "python3"
  },
  "language_info": {
   "codemirror_mode": {
    "name": "ipython",
    "version": 3
   },
   "file_extension": ".py",
   "mimetype": "text/x-python",
   "name": "python",
   "nbconvert_exporter": "python",
   "pygments_lexer": "ipython3",
   "version": "3.10.8"
  },
  "orig_nbformat": 4,
  "vscode": {
   "interpreter": {
    "hash": "7b582537711b1310c966b92a7d8dd7d8468e8c3e18ef6f616441797ebaf6770a"
   }
  }
 },
 "nbformat": 4,
 "nbformat_minor": 2
}
