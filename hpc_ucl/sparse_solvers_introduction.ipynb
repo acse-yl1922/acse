{
 "cells": [
  {
   "cell_type": "markdown",
   "metadata": {},
   "source": [
    "# An introduction to sparse linear system solvers"
   ]
  },
  {
   "cell_type": "markdown",
   "metadata": {},
   "source": [
    "We have seen that we can efficiently represent large sparse matrices with suitable data structures. Moreover, we can efficiently evaluate matrix vector products if the sparse matrix is given as CSR format."
   ]
  },
  {
   "cell_type": "markdown",
   "metadata": {},
   "source": [
    "What is missing is a way to efficiently solve linear system with this data structure. We could attempt to use standard LU Decomposition (Gaussian Elimination). But the computational complexity is $O(n^3)$, making this method infeasible for very large sparse system. The issue is that standard LU decomposition does not take into account that most elements of a matrix are zero. There are different ways to overcome this issue.\n",
    "\n",
    "* **Sparse direct solvers**. Sparse direct solvers are essentially variants of LU decomposition, but tuned for taken into account that most of the matrix consist of zero elements. Sparse direct solvers are highly efficient for PDE problems in two dimensions and still very good for many three dimensional problems. However, there performance deteriorates on matrices arising from complex three dimensional meshes.\n",
    "\n",
    "* **Iterative Methods**. The most widely used iterative solvers are based on so-called Krylov subspace iterations. The idea is that the matrix is only known through its actions on vectors, that is we are allowed to use matrix-vector products only. A sequence of matrix-vector products is then used to build up a low-dimensional model of the matrix that can be solved efficiently and well approximates the solution of the original large linear system. Iterative methods are widely used in applications and can give almost optimal complexity in the number of unknowns. However, the problem is that the performance of iterative methods depends very much on certain properties of the matrix that reflect the underlying physical problem and so-called preconditioning techniques often need to be used to accelerate iterative solvers. These preconditioners can themselves be complex to develop for specific applications and are a topic of much research.\n",
    "\n",
    "* **Multigrid Methods**. Multigrid methods follow a different idea. Here, starting from our discretisation we move to coarser ans coarser discretisation levels to refine the solution. Eventually, we are on a very coarse level on which the solution is trivial to accomplish. From there we refine again. Multigrid can be used as solver on its own or as preconditioner for iterative methods.\n"
   ]
  },
  {
   "cell_type": "markdown",
   "metadata": {},
   "source": [
    "## Software for sparse solvers"
   ]
  },
  {
   "cell_type": "markdown",
   "metadata": {},
   "source": [
    "In the following we want to give a very incomplete overview of some frequently used software packages for the solution of sparse linear systems of equations."
   ]
  },
  {
   "cell_type": "markdown",
   "metadata": {},
   "source": [
    "### Sparse direct solver packages\n",
    "\n",
    "* [UMFPACK (Part of Suitesparse)](https://people.engr.tamu.edu/davis/suitesparse.html) is a widely used sparse direct solver. It is built into Matlab and also available in Python through scikit-umfpack. It is very efficient and constantly being developed.\n",
    "* [Pardiso](https://www.pardiso-project.org/) is available either directly under a closed source license or as part of the Intel MKL, with the caveat that the Intel MKL version is old and significantly slower than the directly available version.\n",
    "* [SuperLU](https://portal.nersc.gov/project/sparse/superlu/) is the standard sparse solver that is also built into Scipy. Scipy only offers the serial version of the library, which is sufficient for smaller to medium problems.\n",
    "* [Mumps](http://mumps.enseeiht.fr/) is a massively parallel sparse direct solver. It is often used on parallel clusters.\n",
    "* [Amesos2](https://trilinos.github.io/amesos2.html) is part of [Trilinos](https://trilinos.github.io/), a large collection of libraries for the parallel solution of partial differential equations. Amesos2 provides its own sparse direct solver, as well as interfaces to many other sparse direct solvers.\n",
    "* [Eigen](http://eigen.tuxfamily.org/index.php?title=Main_Page) is a templated C++ linear algebra library for dense and sparse operations. It provides its own sparse direct solver and also interfaces to many external solvers"
   ]
  },
  {
   "cell_type": "markdown",
   "metadata": {},
   "source": [
    "### Sparse iterative solvers\n",
    "\n",
    "* [Scipy](https://www.scipy.org/) has a good selection of sparse iterative solvers built in. For medium sized matrix problems it is a very good choice.\n",
    "* [Petsc](https://www.mcs.anl.gov/petsc/) is a parallel sparse solver library with a range of built-in iterative solvers.\n",
    "* [Belos](https://trilinos.github.io/belos.html) is part of Trilinos and provides a number of parallel iterative solvers.\n",
    "* [Eigen](http://eigen.tuxfamily.org/index.php?title=Main_Page) not only has sparse direct but also several iterative solvers built in."
   ]
  },
  {
   "cell_type": "markdown",
   "metadata": {},
   "source": [
    "Multigrid solvers\n",
    "\n",
    "* [AmgX](https://developer.nvidia.com/amgx) is an algebraic multigrid library for Nvidia GPUs.\n",
    "* [PyAMG](https://github.com/pyamg/pyamg) is a Python based algebraic multigrid package.\n",
    "* [ML](https://trilinos.github.io/ml.html) is the multigrid solver as part of the Trilinos package."
   ]
  },
  {
   "cell_type": "markdown",
   "metadata": {},
   "source": [
    "Most of the above packages are written in C/C++. But many of them have Python bindings. In the following sessions we will discuss sparse direct solvers, iterative solvers, and multigrid in more detail, and then give examples using some of the above software packages."
   ]
  },
  {
   "cell_type": "code",
   "execution_count": null,
   "metadata": {},
   "outputs": [],
   "source": []
  }
 ],
 "metadata": {
  "kernelspec": {
   "display_name": "Python [conda env:dev] *",
   "language": "python",
   "name": "conda-env-dev-py"
  },
  "language_info": {
   "codemirror_mode": {
    "name": "ipython",
    "version": 3
   },
   "file_extension": ".py",
   "mimetype": "text/x-python",
   "name": "python",
   "nbconvert_exporter": "python",
   "pygments_lexer": "ipython3",
   "version": "3.8.5"
  }
 },
 "nbformat": 4,
 "nbformat_minor": 4
}
