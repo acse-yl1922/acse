{
 "cells": [
  {
   "cell_type": "markdown",
   "metadata": {},
   "source": [
    "### `git` and `GitHub` basics\n",
    "1. Create a repository via `GitHub`\n",
    "<img src=\"figures/gh1.png\">\n",
    "2. `clone` a repository\n",
    "3. `commit`ing changes\n",
    "4. `push` changes to `GitHub`\n",
    "\n",
    "### Creating branches\n",
    "To check which branch you're currently on you can run\n",
    "```\n",
    "git branch\n",
    "```\n",
    "The current branch will be marked with an \\*. To create a new branch you can run:\n",
    "```\n",
    "git checkout -b new_branch_name\n",
    "```\n",
    "(Run `git branch` again now to see how things have changed!). The move between existing branch you can run\n",
    "```\n",
    "git checkout existing_branch_main\n",
    "```\n",
    "e.g., to move back to the main branch from your newly created branch you can simply run\n",
    "```\n",
    "git checkout main\n",
    "```\n",
    "<img src=\"figures/gh4.png\">\\\n",
    "(But remember to move back to your new/development branch before making change to the code \n",
    "\n",
    "#### Pushing new (locally created) branches to `GitHub`\n",
    "\n",
    "After creating a new branch locally, to push this to `GitHub` you'll need to run\n",
    "```\n",
    "git push -u origin new_branch_name\n",
    "```\n",
    "Following this, the branch will be visible on the branches tab of your `GitHub` repo:\n",
    "\n",
    "### Creating and merging pull requests\n",
    "\n",
    "Creating and merging pull requests are another important aspect of managing `GitHub` repositories. If we wish to merge the changes of a particular branch into the `main` branch it's good practice to open a pull request to do this.\n",
    "\n",
    "There are many ways to do this, but here's one. If you click on the `branches` tab (shown in the figure above) you'll see something along the lines of:\n",
    "\n",
    "<img src=\"figures/gh5.png\">\n",
    "\n",
    "Next to the branch you wish to merge, you can click the `Create pull request` button and follow the instructions. In the `Pull requests` (PR) tab of the main repo, you'll then see the pull request appear. This view has many useful tools, where developers can see and comment on the changes to the code base etc. Providing all is 'ok' with the PR, when opening the PR you'll see the `Merge pull request` button as green:\n",
    "\n",
    "<img src=\"figures/gh6.png\">\n",
    "\n",
    "**Important:** Just because the button is green it doesn't mean the PR is ready to be merged (it just means GH knows how to merge it without any conflicts emerging). The changes introduced by a PR should be carefully checked by users to ensure everything is as they wish.\n",
    "\n",
    "After clicking the `Merge pull request` button the changes will then be live in the `Main` branch. After this, remember to update your main locally by checking out the main branch and running a `git pull`!"
   ]
  }
 ],
 "metadata": {
  "kernelspec": {
   "display_name": "Python 3.10.7 64-bit",
   "language": "python",
   "name": "python3"
  },
  "language_info": {
   "name": "python",
   "version": "3.10.7"
  },
  "orig_nbformat": 4,
  "vscode": {
   "interpreter": {
    "hash": "44a9cdcbdccbf05a880e90d2e6fe72470baab4d1b82472d890be0596ed887a6b"
   }
  }
 },
 "nbformat": 4,
 "nbformat_minor": 2
}
