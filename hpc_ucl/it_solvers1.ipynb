{
 "cells": [
  {
   "cell_type": "markdown",
   "metadata": {},
   "source": [
    "# Iterative Solvers 1 - Krylov subspaces, Arnoldi Iteration and the Full Orthogonalisation Method"
   ]
  },
  {
   "cell_type": "markdown",
   "metadata": {},
   "source": [
    "In this session we want to introduce the most import class of iterative solvers, namely Krylov subspace methods for the solution of the linear system of equations\n",
    "\n",
    "$$\n",
    "Ax = b.\n",
    "$$\n",
    "\n",
    "with $A$ a real or complex $n\\times n$ matrix. Here, we will assume for simplicity that $A\\in\\mathbb{R}^{n\\times n}$. But all algorithms discussed here can also be extended to the complex case.\n",
    "\n",
    "The basic assumption is that we are only allowed to perform matrix-vector products with $A$, nothing more. It is remarkable that this operation is enough to develop algorithms that for many classes of problems give us fast converging algorithms to the solution of the above linear system of equations."
   ]
  },
  {
   "cell_type": "markdown",
   "metadata": {},
   "source": [
    "## Krylov subspaces and the Arnoldi iteration"
   ]
  },
  {
   "cell_type": "markdown",
   "metadata": {},
   "source": [
    "We want to approximate the solution to the linear system $Ax=b$ by only being allowed to do matrix-vector products with $A$. The idea is that we use the matrix-vector products to build up a subspace of $\\mathbb{R}^n$."
   ]
  },
  {
   "cell_type": "markdown",
   "metadata": {},
   "source": [
    "**Definition** (Krylov Subspace)\n",
    "\n",
    "The Krylov subspace $\\mathcal{K}_m(A, b)$ is defined by\n",
    "\n",
    "$$\n",
    "\\mathcal{K}_m(A, b) := \\text{span}\\{b, Ab, A^2b, \\dots, A^{m-1}b\\}.\n",
    "$$"
   ]
  },
  {
   "cell_type": "markdown",
   "metadata": {},
   "source": [
    "This subspace collects all the vectors that we can form by combining powers of $A$ times b. Let us try out this subspace numerically."
   ]
  },
  {
   "cell_type": "code",
   "execution_count": 1,
   "metadata": {},
   "outputs": [],
   "source": [
    "import numpy as np\n",
    "\n",
    "def compute_krylov_basis(A, b, m):\n",
    "    \"\"\"Generates a numerical basis for the m-dimensional Krylov subspace.\"\"\"\n",
    "    n = A.shape[0]\n",
    "    \n",
    "    result = np.empty((n, m), dtype=np.float64)\n",
    "    \n",
    "    result[:, 0] = b\n",
    "    \n",
    "    for index in range(1, m):\n",
    "        result[:, index] = A @ result[:, index - 1]\n",
    "        \n",
    "    return result"
   ]
  },
  {
   "cell_type": "markdown",
   "metadata": {},
   "source": [
    "An important measure of the usefulness of a basis is its conditioning. It measures how linearly independent vectors are. A condition number close to $1$ means that the basis is well behaved. A condition number close to $10^{16}$ means that the basis is numerically singular (this is related to the fact that standard double precision has around 16 digits of accuracy).\n",
    "\n",
    "Let us measure the condition number of the Krylov subspace basis as $m$ increases."
   ]
  },
  {
   "cell_type": "code",
   "execution_count": 2,
   "metadata": {},
   "outputs": [
    {
     "name": "stdout",
     "output_type": "stream",
     "text": [
      "1: 1.0e+00\n",
      "2: 8.0e+01\n",
      "3: 4.0e+03\n",
      "4: 2.0e+05\n",
      "5: 1.0e+07\n",
      "6: 5.0e+08\n",
      "7: 2.5e+10\n",
      "8: 1.2e+12\n",
      "9: 6.1e+13\n",
      "10: 3.0e+15\n",
      "11: 6.2e+17\n",
      "12: 1.1e+19\n",
      "13: 4.6e+21\n",
      "14: 2.6e+24\n",
      "15: 9.7e+23\n",
      "16: 5.9e+27\n",
      "17: 1.4e+29\n",
      "18: 2.0e+29\n",
      "19: 2.0e+31\n"
     ]
    }
   ],
   "source": [
    "n = 100 # Matrix dimension\n",
    "\n",
    "m_max = 20\n",
    "\n",
    "rand = np.random.RandomState(0)\n",
    "A = rand.rand(n, n)\n",
    "b = rand.rand(n)\n",
    "\n",
    "krylov_basis = compute_krylov_basis(A, b, m_max)\n",
    "\n",
    "for m in range(1, m_max):\n",
    "    cond_number = np.linalg.cond(krylov_basis[:,:m])\n",
    "    print(\"{0}: {1:2.1e}\".format(m, cond_number))\n"
   ]
  },
  {
   "cell_type": "markdown",
   "metadata": {},
   "source": [
    "This is catastrophic. Already with 10 vectors the Krylov subspace basis is effectively numerically singular. The mathematical reason is that the powers $A^{m}b$ converge to the eigenvector associated with the largest (by magnitude) eigenvalue of $A$. Hence, the later iterates more and more point in the same direction and are not really linearly dependent. We need a way to generate a stable basis for growing $m$. The ideal case is an orthogonal basis, where all basis vectors are pairwise orthogonal to each other and of unit length.\n",
    "\n",
    "This is accomplished by the following modified algorithm that after each multiplication with the matrix $A$ orthogonalizes the new vector against all previous vectors."
   ]
  },
  {
   "cell_type": "code",
   "execution_count": 3,
   "metadata": {},
   "outputs": [],
   "source": [
    "import numpy as np\n",
    "\n",
    "def compute_krylov_basis_orthogonal(A, b, m):\n",
    "    \"\"\"Generates an orthogonal basis for the m-dimensional Krylov subspace.\"\"\"\n",
    "    n = A.shape[0]\n",
    "    \n",
    "    result = np.empty((n, m), dtype=np.float64)\n",
    "    \n",
    "    result[:, 0] = b / np.linalg.norm(b)\n",
    "    \n",
    "    for index in range(1, m):\n",
    "        # Multiply the previous vector with A\n",
    "        tmp = A @ result[:, index - 1]\n",
    "        # Now orthogonalise against the previous basis vectors\n",
    "        h = result[:, :index].T @ tmp # h contains all inner products against previous vectors\n",
    "        w = tmp - result[:, :index] @ h # Subtract the components in the directions of the previous vectors\n",
    "        # Normalise and store\n",
    "        htilde = np.linalg.norm(w)\n",
    "        result[:, index] = w[:] / htilde\n",
    "                \n",
    "    return result"
   ]
  },
  {
   "cell_type": "markdown",
   "metadata": {},
   "source": [
    "Let us test this algorithm."
   ]
  },
  {
   "cell_type": "code",
   "execution_count": 4,
   "metadata": {},
   "outputs": [
    {
     "name": "stdout",
     "output_type": "stream",
     "text": [
      "1: 1.0e+00\n",
      "2: 1.0e+00\n",
      "3: 1.0e+00\n",
      "4: 1.0e+00\n",
      "5: 1.0e+00\n",
      "6: 1.0e+00\n",
      "7: 1.0e+00\n",
      "8: 1.0e+00\n",
      "9: 1.0e+00\n",
      "10: 1.0e+00\n",
      "11: 1.0e+00\n",
      "12: 1.0e+00\n",
      "13: 1.0e+00\n",
      "14: 1.0e+00\n",
      "15: 1.0e+00\n",
      "16: 1.0e+00\n",
      "17: 1.0e+00\n",
      "18: 1.0e+00\n",
      "19: 1.0e+00\n"
     ]
    }
   ],
   "source": [
    "n = 100 # Matrix dimension\n",
    "\n",
    "m_max = 20\n",
    "\n",
    "rand = np.random.RandomState(0)\n",
    "A = rand.rand(n, n)\n",
    "b = rand.rand(n)\n",
    "\n",
    "krylov_basis = compute_krylov_basis_orthogonal(A, b, m_max)\n",
    "\n",
    "for m in range(1, m_max):\n",
    "    cond_number = np.linalg.cond(krylov_basis[:,:m])\n",
    "    print(\"{0}: {1:2.1e}\".format(m, cond_number))\n"
   ]
  },
  {
   "cell_type": "markdown",
   "metadata": {},
   "source": [
    "We can see that this basis is now perfectly conditioned. The algorithm that we have implemented is called **Arnoldi iteration**. Mathematically, it can be written as follows.\n",
    "\n",
    "$$\n",
    "A V_m = V_mH_m + h_{m+1, m}v_{m + 1}e_m^T\n",
    "$$\n",
    "\n",
    "Here, $V_m$ is the orthogonal basis of the $m$th Krylov subspace. The matrix $H$ is the matrix of all inner products between the Krylov basis vectors, that is $h_{i,j} = v_i^TAv_j$ and the vector $v_{m+1}$ is the next vector in the sequence obtaining by orthogonalising the vector $Av_m$ against all previous vectors and then normalising.\n",
    "\n",
    "To see that this formula represents what we are doing in our Python function `compute_krylov_basis_orthogonal` just take the last column of this matrix equation. It reads\n",
    "\n",
    "$$\n",
    "Av_m = V_m h + h_{m+1, m}v_{m+1}\n",
    "$$\n",
    "\n",
    "The vector $h$ is exactly as computed in the Python function. The variable `htilde` is the next value $h_{m+1, m}$ in the $H$ matrix, and for the variable `w` we have $w=h_{m+1, m}v_{m+1}$. The matrix $H_m$ has a special structure. The upper triangular part including the first lower subdiagonal are nonzero. The upper triangular part contains the inner products of $Av_j$ against all the previous vectors and the subdiagonal elements are just the normalisation factors after subtracting off the components against the other vectors.\n",
    "\n",
    "We immediately see from this formula that\n",
    "\n",
    "$$\n",
    "V_m^TAV_m = H_m.\n",
    "$$\n",
    "\n",
    "This motivates our first algorithm for the iterative solution of linear systems of equations."
   ]
  },
  {
   "cell_type": "markdown",
   "metadata": {},
   "source": [
    "## FOM - The Full orthogonalisation method"
   ]
  },
  {
   "cell_type": "markdown",
   "metadata": {},
   "source": [
    "Let us start with the linear system of equations\n",
    "\n",
    "$$\n",
    "Ax = b.\n",
    "$$\n",
    "\n",
    "We define an initial approximation $x_0$ that can be anything (e.g. $x_0=0$ or $x_0$ random) and an initial residual $r_0 := b - Ax_0$.\n",
    "\n",
    "The idea is that we replace $x$ by an approximation $x_m := x_0 + V_my_m$ from the Krylov subspace $\\mathcal{K}_m(A, r_0)$. We obtain\n",
    "\n",
    "$$\n",
    "A(x_0 + V_my_m) \\approx b.\n",
    "$$\n",
    "\n",
    "or equivalently\n",
    "\n",
    "$$\n",
    "AV_my_m \\approx r_0.\n",
    "$$\n",
    "\n",
    "We still need a condition to turn this into a proper linear system of equations. Here, we use the condition that the residual $r_m := b - Ax_m$ should be orthogonal to the Krylov subspace $\\mathcal{K}_m(A, r_0)$, that is $V_m^Tr_m = 0$. This is the same as\n",
    "\n",
    "$$\n",
    "V_m^TAV_my_m = V_m^Tr_0.\n",
    "$$\n",
    "\n",
    "The left-hand side is just our projection matrix $H_m$. Moreover, we have that $V_m^Tr_0 = \\|r_0\\|_2e_1$, where $e_1$ is the first unit vector. Hence, we arrive at the system of equations\n",
    "\n",
    "$$\n",
    "H_my_m = \\|r_0\\|_2e_1.\n",
    "$$\n",
    "\n",
    "What have we won here? The original linear system of equations is of size $n\\times n$. The new system is of size $m\\times m$. If we can get a good approximation of the solution with $m\\ll n$, then we have had a massive saving. Let's try it out."
   ]
  },
  {
   "cell_type": "code",
   "execution_count": 5,
   "metadata": {},
   "outputs": [],
   "source": [
    "%matplotlib inline\n",
    "from matplotlib import pyplot as plt\n",
    "\n",
    "import numpy as np\n",
    "from scipy.linalg import solve\n",
    "\n",
    "def fom(A, b, m_max = 100):\n",
    "    \"\"\"Explore the full orthogonalization method.\"\"\"\n",
    "\n",
    "    \n",
    "    r = b # Here we assume that we start with x_0 = 0\n",
    "    beta = np.linalg.norm(r)\n",
    "    \n",
    "    # V stores the basis vectors\n",
    "    V = np.empty((A.shape[0], m_max), dtype='float64')\n",
    "    V[:, 0] = r / beta\n",
    "    \n",
    "    # H stores the projected matrix\n",
    "    H = np.zeros((m_max, m_max), dtype='float64')\n",
    "    \n",
    "    # We also want to store the residual norms\n",
    "    rel_residuals = [1]\n",
    "        \n",
    "    for m in range(1, m_max):\n",
    "        # Multiply the previous vector with A\n",
    "        tmp = A @ V[:, m - 1]\n",
    "        # Now orthogonalise against the previous basis vectors\n",
    "        H[:m, m - 1] = V[:, :m].T @ tmp # Compute the next column of H\n",
    "        w = tmp - V[:, :m] @ H[:m, m - 1] # Subtract the components in the directions of the previous vectors\n",
    "        # Normalise and store\n",
    "        htilde = np.linalg.norm(w)\n",
    "        V[:, m] = w[:] / htilde\n",
    "        H[m, m - 1] = htilde \n",
    "\n",
    "        # Now solve the projected system\n",
    "        \n",
    "        y = solve(H[:m, :m], V[:, :m].T @ b)\n",
    "        \n",
    "        x = V[:, :m] @ y\n",
    "        r = b - A @ x\n",
    "        rnorm = np.linalg.norm(r)\n",
    "        rel_residuals.append(rnorm / beta)            \n",
    "            \n",
    "    plt.figure()\n",
    "    plt.semilogy(rel_residuals)\n",
    "    \n",
    "    return x, V\n",
    "    "
   ]
  },
  {
   "cell_type": "markdown",
   "metadata": {},
   "source": [
    "The above function implements the full orthogonalization method. In each step we perform one step of the Arnoldi iteration, compute the projected matrix A and solve the projected system. At the end we plot the convergence of the relative residual $\\|r\\| / \\|b\\|$ and return the approximate solution `x` and the basis `V` of our Krylov subspace.\n",
    "\n",
    "The following defines a well conditioned random matrix of dimension 1000 and tries out the algorithm."
   ]
  },
  {
   "cell_type": "code",
   "execution_count": 8,
   "metadata": {},
   "outputs": [
    {
     "data": {
      "image/png": "[encoded data removed]",
      "text/plain": [
       "<Figure size 432x288 with 1 Axes>"
      ]
     },
     "metadata": {
      "needs_background": "light"
     },
     "output_type": "display_data"
    }
   ],
   "source": [
    "from scipy.sparse.linalg import gmres\n",
    "\n",
    "rand = np.random.RandomState(0)\n",
    "\n",
    "dim = 1000\n",
    "\n",
    "w = np.linspace(0.1, 1, dim)\n",
    "\n",
    "A = np.diag(w)\n",
    "b = rand.randn(dim)\n",
    "np.linalg.cond(A)\n",
    "\n",
    "x, V = fom(A, b, m_max=20)"
   ]
  },
  {
   "cell_type": "markdown",
   "metadata": {},
   "source": [
    "We can observe nice exponential convergence. Indeed, after just 17 iterations our relative residual is around $10^{-5}$. Hence, instead of a 1000 x 1000 system we only needed to solve systems up to dimension 17 for a pretty good solution.\n",
    "\n",
    "However, there are some caveats though. A careful observer will have seen already that we cheated a little bit in the code. We have established that theoretically in the FOM the projected right-hand side takes the form $\\|r_0\\| e_1$. However, in the implementation we compute the projection of the right-hand side $b$ explicitly. The reason is loss of numerical orthogonality. The columns of the matrix $V$ lose their orthogonality over time with catastrophic effects. Let's run FOM for 100 steps.\n",
    "\n",
    "\n",
    "\n",
    "\n",
    "Let's make a plot of the matrix $M = V^TV$. Theoretically, its diagonal values should be one and all other values $0$. Let's check this."
   ]
  },
  {
   "cell_type": "code",
   "execution_count": 9,
   "metadata": {},
   "outputs": [
    {
     "data": {
      "image/png": "[encoded data removed]",
      "text/plain": [
       "<Figure size 432x288 with 1 Axes>"
      ]
     },
     "metadata": {
      "needs_background": "light"
     },
     "output_type": "display_data"
    }
   ],
   "source": [
    "x, V = fom(A, b, m_max=100)"
   ]
  },
  {
   "cell_type": "markdown",
   "metadata": {},
   "source": [
    "Up until around $m=30$ we converge nicely. But then the solution deteriorates again until we lose all our accuracy. Let's check the matrix $M = V^TV$. If $V$ is orthogonal then this matrix has ones on the diagonal and zeros everywhere else."
   ]
  },
  {
   "cell_type": "code",
   "execution_count": 10,
   "metadata": {},
   "outputs": [
    {
     "data": {
      "text/plain": [
       "<matplotlib.colorbar.Colorbar at 0x7f0f20c1cb80>"
      ]
     },
     "execution_count": 10,
     "metadata": {},
     "output_type": "execute_result"
    },
    {
     "data": {
      "image/png": "[encoded data removed]",
      "text/plain": [
       "<Figure size 432x288 with 2 Axes>"
      ]
     },
     "metadata": {
      "needs_background": "light"
     },
     "output_type": "display_data"
    }
   ],
   "source": [
    "M = V.T @ V\n",
    "\n",
    "plt.imshow(np.log10(np.abs(M)), vmin=-15, vmax=1)\n",
    "plt.colorbar()"
   ]
  },
  {
   "cell_type": "markdown",
   "metadata": {},
   "source": [
    "This is pretty bad. We completely lose orthogonality. The issue is the way in which we implemented the orthogonalisation. We used the classical Gram-Schmidt algorithm to do this, which is often taught in theoretical text books, but is not numerically stable. There are ways to stabilise the orthogonalisation by using for example modified Gram-Schmidt and introduing reorthogonalisation from time to ime. We are not going to discuss these techniques here."
   ]
  },
  {
   "cell_type": "code",
   "execution_count": null,
   "metadata": {},
   "outputs": [],
   "source": []
  }
 ],
 "metadata": {
  "kernelspec": {
   "display_name": "Python [conda env:dev] *",
   "language": "python",
   "name": "conda-env-dev-py"
  },
  "language_info": {
   "codemirror_mode": {
    "name": "ipython",
    "version": 3
   },
   "file_extension": ".py",
   "mimetype": "text/x-python",
   "name": "python",
   "nbconvert_exporter": "python",
   "pygments_lexer": "ipython3",
   "version": "3.8.5"
  }
 },
 "nbformat": 4,
 "nbformat_minor": 4
}
