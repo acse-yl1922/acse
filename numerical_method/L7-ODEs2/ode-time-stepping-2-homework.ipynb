{
 "cells": [
  {
   "cell_type": "code",
   "execution_count": 1,
   "metadata": {},
   "outputs": [
    {
     "data": {
      "text/html": [
       "<style>\n",
       "div.optional {\n",
       "    display: block;\n",
       "    background-color: #d7e2ff;\n",
       "    border-color: #d7e2ff;\n",
       "    border-left: 5px solid #d7e2ff;\n",
       "    padding: 0.5em;\n",
       "}\n",
       "div.advanced {\n",
       "    display: block;\n",
       "    background-color: #fff4d7;\n",
       "    border-color: #fff4d7;\n",
       "    border-left: 5px solid #fff4d7;\n",
       "    padding: 0.5em;\n",
       "}\n",
       "</style>\n"
      ],
      "text/plain": [
       "<IPython.core.display.HTML object>"
      ]
     },
     "metadata": {},
     "output_type": "display_data"
    }
   ],
   "source": [
    "%%html\n",
    "<style>\n",
    "div.optional {\n",
    "    display: block;\n",
    "    background-color: #d7e2ff;\n",
    "    border-color: #d7e2ff;\n",
    "    border-left: 5px solid #d7e2ff;\n",
    "    padding: 0.5em;\n",
    "}\n",
    "div.advanced {\n",
    "    display: block;\n",
    "    background-color: #fff4d7;\n",
    "    border-color: #fff4d7;\n",
    "    border-left: 5px solid #fff4d7;\n",
    "    padding: 0.5em;\n",
    "}\n",
    "</style>"
   ]
  },
  {
   "cell_type": "markdown",
   "metadata": {
    "slideshow": {
     "slide_type": "-"
    }
   },
   "source": [
    "# Modelling & Numerical Methods <a class=\"tocSkip\">\n",
    "\n",
    "## ODE solvers (or time-stepping methods - numerical solution of IVPs) 2 <a class=\"tocSkip\">\n",
    "    \n",
    "### Homework Exercises <a class=\"tocSkip\">"
   ]
  },
  {
   "cell_type": "markdown",
   "metadata": {
    "toc": true
   },
   "source": [
    "<h1>Table of Contents<span class=\"tocSkip\"></span></h1>\n",
    "<div class=\"toc\"><ul class=\"toc-item\"><li><span><a href=\"#Homework\" data-toc-modified-id=\"Homework-1\"><span class=\"toc-item-num\">1&nbsp;&nbsp;</span>Homework</a></span><ul class=\"toc-item\"><li><span><a href=\"#Homework---SciPy-methods-comparison\" data-toc-modified-id=\"Homework---SciPy-methods-comparison-1.1\"><span class=\"toc-item-num\">1.1&nbsp;&nbsp;</span>Homework - SciPy methods comparison</a></span></li><li><span><a href=\"#Homework---The-van-der-Pol-problem\" data-toc-modified-id=\"Homework---The-van-der-Pol-problem-1.2\"><span class=\"toc-item-num\">1.2&nbsp;&nbsp;</span>Homework - The van der Pol problem</a></span></li><li><span><a href=\"#Homework---L-stability-[$\\star$]\" data-toc-modified-id=\"Homework---L-stability-[$\\star$]-1.3\"><span class=\"toc-item-num\">1.3&nbsp;&nbsp;</span>Homework - L-stability [$\\star$]</a></span></li><li><span><a href=\"#Homework---Implementing-Runge-Kutta-4-stage-method-(RK4)\" data-toc-modified-id=\"Homework---Implementing-Runge-Kutta-4-stage-method-(RK4)-1.4\"><span class=\"toc-item-num\">1.4&nbsp;&nbsp;</span>Homework - Implementing Runge-Kutta 4 stage method (RK4)</a></span></li><li><span><a href=\"#Homework---Implementing-Adams-Bashforth-4-step-method-(AB4)\" data-toc-modified-id=\"Homework---Implementing-Adams-Bashforth-4-step-method-(AB4)-1.5\"><span class=\"toc-item-num\">1.5&nbsp;&nbsp;</span>Homework - Implementing Adams-Bashforth 4-step method (AB4)</a></span></li><li><span><a href=\"#Homework---Adaptive-time-stepping-(implementing-RK45---the-Dormand-Prince-embedded-RK-pair)-[$\\star\\star$]\" data-toc-modified-id=\"Homework---Adaptive-time-stepping-(implementing-RK45---the-Dormand-Prince-embedded-RK-pair)-[$\\star\\star$]-1.6\"><span class=\"toc-item-num\">1.6&nbsp;&nbsp;</span>Homework - Adaptive time stepping (implementing RK45 - the Dormand-Prince embedded RK pair) [$\\star\\star$]</a></span></li><li><span><a href=\"#Homework---The-Lorenz-system-(with-RK4-and-RK45)\" data-toc-modified-id=\"Homework---The-Lorenz-system-(with-RK4-and-RK45)-1.7\"><span class=\"toc-item-num\">1.7&nbsp;&nbsp;</span>Homework - The Lorenz system (with RK4 and RK45)</a></span></li><li><span><a href=\"#Homework---Perturbing-initial-conditions-(in-the-Lorenz-problem)-[$\\star$]\" data-toc-modified-id=\"Homework---Perturbing-initial-conditions-(in-the-Lorenz-problem)-[$\\star$]-1.8\"><span class=\"toc-item-num\">1.8&nbsp;&nbsp;</span>Homework - Perturbing initial conditions (in the Lorenz problem) [$\\star$]</a></span></li><li><span><a href=\"#Homework---The-Kepler-problem-with-adaptive-time-stepping-[$\\star$]\" data-toc-modified-id=\"Homework---The-Kepler-problem-with-adaptive-time-stepping-[$\\star$]-1.9\"><span class=\"toc-item-num\">1.9&nbsp;&nbsp;</span>Homework - The Kepler problem with adaptive time stepping [$\\star$]</a></span></li><li><span><a href=\"#Homework---Structure-preservation-(geometric-integrators-applied-to-the-Kepler-problem)-[$\\star\\star$]\" data-toc-modified-id=\"Homework---Structure-preservation-(geometric-integrators-applied-to-the-Kepler-problem)-[$\\star\\star$]-1.10\"><span class=\"toc-item-num\">1.10&nbsp;&nbsp;</span>Homework - Structure preservation (geometric integrators applied to the Kepler problem) [$\\star\\star$]</a></span></li><li><span><a href=\"#Homework---ODE-solver-timings-(non-stiff-problems)-[$\\star\\star$]\" data-toc-modified-id=\"Homework---ODE-solver-timings-(non-stiff-problems)-[$\\star\\star$]-1.11\"><span class=\"toc-item-num\">1.11&nbsp;&nbsp;</span>Homework - ODE solver timings (non-stiff problems) [$\\star\\star$]</a></span></li><li><span><a href=\"#Homework---ODE-solver-timings-(stiff-problems)-[$\\star\\star$]\" data-toc-modified-id=\"Homework---ODE-solver-timings-(stiff-problems)-[$\\star\\star$]-1.12\"><span class=\"toc-item-num\">1.12&nbsp;&nbsp;</span>Homework - ODE solver timings (stiff problems) [$\\star\\star$]</a></span></li></ul></li></ul></div>"
   ]
  },
  {
   "cell_type": "code",
   "execution_count": null,
   "metadata": {
    "scrolled": false
   },
   "outputs": [],
   "source": [
    "%matplotlib inline\n",
    "import numpy as np\n",
    "import matplotlib.pyplot as plt\n",
    "# the following allows us to plot triangles indicating convergence order\n",
    "from mpltools import annotation\n",
    "\n",
    "from scipy.integrate import odeint\n",
    "from scipy.integrate import solve_ivp\n",
    "\n",
    "from matplotlib import rcParams\n",
    "# font sizes for plots\n",
    "plt.rcParams['font.size'] = 12\n",
    "plt.rcParams['font.family'] = 'sans-serif'\n",
    "plt.rcParams['font.sans-serif'] = ['Arial', 'Dejavu Sans']"
   ]
  },
  {
   "cell_type": "markdown",
   "metadata": {},
   "source": [
    "# Homework"
   ]
  },
  {
   "cell_type": "markdown",
   "metadata": {},
   "source": [
    "## Homework - SciPy methods comparison\n",
    "\n",
    "Consider the ODE\n",
    "\n",
    "$$ y' = y - t^2 +1, \\;\\;\\;\\;\\; y(0) = \\frac{1}{2},$$\n",
    "\n",
    "with exact solution\n",
    "\n",
    "$$ y(t) = (t + 1)^2 - \\frac{e^{t}}{2}. $$\n",
    "\n",
    "Read the docs for some of the SciPy ODE solvers, e.g. [`scipy.integrate.odeint`](https://docs.scipy.org/doc/scipy/reference/generated/scipy.integrate.odeint.html) and [`scipy.integrate.solve_ivp`](https://docs.scipy.org/doc/scipy/reference/generated/scipy.integrate.solve_ivp.html).\n",
    "\n",
    "Use a range of methods to integrate this problem from $t=0$ to $t=4$, vary the rtol and atol error tolerance parameters (for simplicity just set them equal to the same value for each experiment) and plot the error for each of the methods at the end of the simulation period against the tolerance value."
   ]
  },
  {
   "cell_type": "markdown",
   "metadata": {},
   "source": [
    "## Homework - The van der Pol problem\n",
    "\n",
    "Consider now the van der Pol oscillator problem which can be used to model electrical circuits.\n",
    "\n",
    "\n",
    "For background see:\n",
    "\n",
    "<https://en.wikipedia.org/wiki/Van_der_Pol_oscillator>\n",
    "\n",
    "<http://mathworld.wolfram.com/vanderPolEquation.html>\n",
    "\n",
    "<https://archimede.dm.uniba.it/~testset/problems/vdpol.php>\n",
    "\n",
    "\n",
    "This second-order problem can be written as the first-order system\n",
    "\n",
    "$$ y_1' = y_2, \\;\\;\\;\\; y_2' = \\mu (1 - y_1^2)y_2 - y_1,$$\n",
    "\n",
    "where $\\mu$ is a parameter we can vary to change the characteristics of the problem. Start with a value of $\\mu = 100$, and you could then try making this smaller/larger (but be careful about making it much larger as the problem becomes stiff and our solvers not designed to handle stiff problems start taking a very long time to complete! Refer to the final questions which consider errors vs CPU times for non-stiff and then stiff problem).\n",
    "\n",
    "Consider a case with initial condition $y_1 = 2$ and $y_2=0$, and integrate up to time $t=2\\mu$.\n",
    "\n",
    "Repeat the error vs tolerance analysis from the previous question.\n",
    "\n",
    "To compute the error use a Radau solver with a very tight tolerance."
   ]
  },
  {
   "cell_type": "markdown",
   "metadata": {},
   "source": [
    "<div class=\"optional\">\n",
    "\n",
    "## Homework - L-stability [$\\star$]\n",
    "\n",
    "From the lecture (the discussion on L-stability), consider the problem\n",
    "\n",
    "$$y'(t) = \\lambda(y - \\cos(t)) - \\sin(t), \\;\\;\\;\\; y(0) = y_0.$$\n",
    "\n",
    "The exact solution to this problem is \n",
    "\n",
    "$$y(t) = \\text{e}^{\\lambda t}(y_0 - 1) + \\cos(t).$$\n",
    "\n",
    "Write some code that time steps this problem with the initial condition $y_0=1.5$ using both the backward Euler and the trapezoidal schemes. \n",
    "\n",
    "Note that since this is a scalar linear problem, we can just rearrange our implicit schemes for this problem to arrive at updates of the form `y[n+1] = ...` where the RHS of the expression contains things we know, meaning you do not have to call a nonlinear solver.\n",
    "\n",
    "Try to choose values of $\\lambda$ the give the behaviour for the two schemes as presented in the image in the L-stability section of the lecture.\n",
    "\n",
    "Verify the claims we made in the lecture: \"Note that reducing the time step does not help. But this problem with the trapezoidal scheme does not manifest if we start with the initial condition $y_0=1$.\"\n",
    "\n",
    "</div>"
   ]
  },
  {
   "cell_type": "markdown",
   "metadata": {},
   "source": [
    "## Homework - Implementing Runge-Kutta 4 stage method (RK4)\n",
    "\n",
    "Write a general Python function that implements the classical RK4 method for a given RHS function, and apply it to the problem we used previously to compare the errors between forward Euler and improved Euler (recalling that we can interpret IE as a predictor-corrector LMS pair, or as a Runge-Kutta method RK2($\\alpha=1$)):\n",
    "\n",
    "$$y'(t)=y,\\;\\;\\; y(0)=1,$$\n",
    "\n",
    "and where we evaluate the error at the time $t = 2\\pi$."
   ]
  },
  {
   "cell_type": "markdown",
   "metadata": {},
   "source": [
    "## Homework - Implementing Adams-Bashforth 4-step method (AB4)\n",
    "\n",
    "In the lecture we derived AB2 by choosing our free parameters ($\\beta_0\\,$ and $\\,\\beta_1$) such that we could integrate exactly the monomials $f(t) = 1$ and $f(t)=t$. This led to two simultaneous equations we could trivially solve.\n",
    "\n",
    "Try extending this to the case of AB4 - now we have four free parameters ($\\beta_0, \\ldots, \\beta_3$) and we need to integrate polynomials up to degree 3 exactly.\n",
    "\n",
    "Derive the corresponding system of 4 equations for 4 unknowns.\n",
    "\n",
    "**[Hint**: your life will be easier when computing the integrals if you consider a polynomial basis of the form $P_{N+1}(t) = t (t + \\Delta t) \\dots (t + N\\Delta t)$\n",
    "\n",
    "(note that this is consistent with what we did for AB2, but now we aren't using monomials any more for $N>1$, i.e. additionally consider the cases $f(t)=t(t+\\Delta t)$ and $f(t)=t(t+\\Delta t)(t+2\\Delta t)$).\n",
    "\n",
    "\n",
    "Can you see where this hint came from - why is this a convenient choice, if again as per the AB2 derivation in the lecture we assume $t_{n+1} = \\Delta t,\\; t_n = 0$, $t_{n-1} = -\\Delta t$, $t_{n-2} = -2\\Delta t$, ...?\n",
    "\n",
    "\n",
    "Write a script which forms and solves the resulting linear system for the AB coefficients, for $k=4$.\n",
    "\n",
    "Check your coefficients agree with those given in the lecture, e.g. with something like\n",
    "\n",
    "```python\n",
    "AB4_beta = np.linalg.solve(LHS_A, RHS_b)  \n",
    "print('Our calculated AB4 coefficients: ',AB4_beta)\n",
    "print('Our coefficient agree with what we wrote in the lecture: ',np.allclose(AB4_beta, np.array([ 55./24., -59./24., 37./24., -9./24.])))\n",
    "```\n",
    "**]**\n",
    "\n",
    "\n",
    "and then implement and verify the method following the implementation and convergence approach taken in the homework exercise from the previous lecture (`Homework: Improved Euler and accuracy comparison with forward Euler`).\n",
    "\n",
    "As the scheme isn't self-starting use the appropriate number of time steps from an appropriate order RK method to start things off."
   ]
  },
  {
   "cell_type": "markdown",
   "metadata": {},
   "source": [
    "<div class=\"advanced\">\n",
    "\n",
    "## Homework - Adaptive time stepping (implementing RK45 - the Dormand-Prince embedded RK pair) [$\\star\\star$]\n",
    "\n",
    "Try implementing the Dormand and Price embedded RK pair (<https://en.wikipedia.org/wiki/Dormand%E2%80%93Prince_method>) with adaptive time stepping.\n",
    "\n",
    "[Given 4th and 5th order approximations to the solution at the new time level (`y4` and `y5`), the error control component of the method can be written something like\n",
    "\n",
    "```Python\n",
    "        # error control\n",
    "        e = np.linalg.norm(y5 - y4)/np.sqrt(y.size)\n",
    "        dt_next = 0.9 * (tol/e)**(1./5.) * dt\n",
    "        if e < tol:\n",
    "            y = y5\n",
    "            y_all.append(y)\n",
    "            t = t + dt\n",
    "            t_all.append(t) \n",
    "        dt = dt_next\n",
    "```\n",
    "where $e$ is an estimate of the local error obtained as the norm of the difference between the two numerical solutions and 0.9 is a safety factor. Note that additional factors can easily be incorporated to limit how rapidly the time step size is allowed to increase or decrease. We haven't bothered to do this here and this is why our dt's don't quite match those obtained with SciPy.\n",
    "\n",
    "For more information on this if interested see Chapter II.4 (Practical Error Estimation and Step Size Selection) of *Solving Ordinary Differential Equations I: Nonstiff Problems* by Hairer, Nørsett and Wanner.]\n",
    "\n",
    "To make your life easier the entries of the Butcher tableau for the scheme are given in the following cell.\n",
    "\n",
    "Test the solver of one of the problems we have seen before.\n",
    "\n",
    "You should also test that your implementation works for both scalar and vector problems.\n",
    "\n",
    "</div>"
   ]
  },
  {
   "cell_type": "markdown",
   "metadata": {},
   "source": [
    "## Homework - The Lorenz system (with RK4 and RK45)\n",
    "\n",
    "Repeat the Lorenz system exercise from the previous lecture's homework using our new RK4 and RK45 solvers."
   ]
  },
  {
   "cell_type": "markdown",
   "metadata": {},
   "source": [
    "<div class=\"optional\">\n",
    "\n",
    "## Homework - Perturbing initial conditions (in the Lorenz problem) [$\\star$]\n",
    "\n",
    "In order to think about how long we can reasonably expect to follow a complex trajectory such as in the Lorenz system before we start to see divergence, see what happens if you start two simulations with slightly different initial conditions. i.e. perturb your initial condition using a small random vector and track how the trajectories diverge.\n",
    "\n",
    "I suggest you try this with RK4.\n",
    "\n",
    "</div>"
   ]
  },
  {
   "cell_type": "markdown",
   "metadata": {},
   "source": [
    "<div class=\"optional\">\n",
    "    \n",
    "## Homework - The Kepler problem with adaptive time stepping [$\\star$]\n",
    "\n",
    "Repeat the Kepler problem exercise from Lecture 5's homework using our own RK45 method (or alternatively Scipy's `solve_ivp` with the option `RK45`).\n",
    "\n",
    "Plot how the time step size varies in time - does it make sense when you have larger vs smaller time steps?\n",
    "\n",
    "See if you get agreement for the time step sizes between our and SciPy's RK45 implementation.\n",
    "\n",
    "</div>"
   ]
  },
  {
   "cell_type": "markdown",
   "metadata": {},
   "source": [
    "<div class=\"advanced\">\n",
    "\n",
    "## Homework - Structure preservation (geometric integrators applied to the Kepler problem) [$\\star\\star$]\n",
    "\n",
    "Implement the symplectic Euler method and compare this to our other three methods we have applied to the Kepler problem.\n",
    "\n",
    "For details of the method see <https://en.wikipedia.org/wiki/Semi-implicit_Euler_method>.\n",
    "\n",
    "As the name implies this is an example of a [*symplectic*](https://en.wikipedia.org/wiki/Symplectic_integrator) time stepping method. We don't have time to go into what this means, we simply state that methods such as this (a class of [*geometric integrator*](https://en.wikipedia.org/wiki/Geometric_integrator)) well suited to problems where it is important to try and preserve conservation laws (as well as related \"geometric\" structures. \n",
    "\n",
    "</div>"
   ]
  },
  {
   "cell_type": "markdown",
   "metadata": {},
   "source": [
    "<div class=\"advanced\">\n",
    "\n",
    "## Homework - ODE solver timings (non-stiff problems) [$\\star\\star$]\n",
    "\n",
    "In an earlier homework question we compared a variety of SciPy's ODE solver methods on the problem\n",
    "\n",
    "$$ y' = y - t^2 +1, \\;\\;\\;\\;\\; y(0) = \\frac{1}{2},$$\n",
    "\n",
    "which has the exact solution\n",
    "\n",
    "$$ y(t) = (t + 1)^2 - \\frac{e^{t}}{2}. $$\n",
    "\n",
    "We integrated from $t=0$ and evaluating the error at $t=4$.\n",
    "\n",
    "We varied the rtol and atol error tolerance parameters to generate plots of the 'error' vs the 'user-specified error tolerance'.\n",
    "\n",
    "This was interesting but of far more value would be an analysis of errors vs run times.\n",
    "\n",
    "Extend the homework exercise by recording solution timings (e.g. look back at Lecture 3's use of `%timeit` to provide estimates of run times.)\n",
    "\n",
    "What do you observe from these results, and the differences observed between the 'error' vs 'tolerance' and 'error' vs 'run time' plots?\n",
    "\n",
    "Finally, see how our own implementations of improved Euler (IE), AM3, RK4 and RK45 (i.e. our Dormand & Prince adaptive time stepping solver) compare. What conclusions can you draw from this comparison? \n",
    "\n",
    "</div>"
   ]
  },
  {
   "cell_type": "markdown",
   "metadata": {},
   "source": [
    "<div class=\"advanced\">\n",
    "\n",
    "## Homework - ODE solver timings (stiff problems) [$\\star\\star$]\n",
    "\n",
    "Consider now a vector problem demonstrating stiff behaviour.\n",
    "\n",
    "Recall from the lecture the problem of the form\n",
    "\n",
    "$$ y'' + (\\mu + 1) y' + \\mu y = 0 , $$\n",
    "\n",
    "or equivalently\n",
    "\n",
    "$$ \\boldsymbol{z}'=A\\boldsymbol{z}\\;\\;\\;\\text{where}\n",
    "\\;\\;\\;\\; \\boldsymbol{z} = \n",
    "\\begin{bmatrix}\n",
    "y\\\\\n",
    "y'\n",
    "\\end{bmatrix}\n",
    "\\;\\;\\;\\text{and}\n",
    "\\;\\;\\;\\; \n",
    "A =\n",
    "\\begin{bmatrix}\n",
    "0 & 1\\\\\n",
    "-\\mu & -(\\mu + 1)\n",
    "\\end{bmatrix},$$\n",
    "\n",
    "with parameter $\\mu$.\n",
    "\n",
    "The general solution to this problem is given by\n",
    "\n",
    "$$ y(t) = C_1 \\text{e}^{\\lambda_1 t} + C_2 \\text{e}^{\\lambda_2 t}, $$\n",
    "\n",
    "where $\\lambda_1$ and $\\lambda_2$ are the eigenvalues of the matrix $A$, and with the constants $C_1$ and $C_2$ defined by the initial conditions specified for $y$ and $y'$.\n",
    "\n",
    "What are the eigenvalues for this problem in terms of $\\mu$?\n",
    "\n",
    "Choose values of $\\mu$ that lead to a problems that can be characterised as stiff and non stiff.\n",
    "\n",
    "Perform the same analysis of error vs run times as in the previous question, but focus on SciPy's `solve_ivp` with the  `RK23`, `RK45`, `BDF` and `Radau` options.\n",
    "\n",
    "I suggest you use an initial condition of $y(0)=1$ and $y'(0) = \\mu - 2$ and integrate up to a time of $t=1$.\n",
    "\n",
    "Comment on what you observe, and if (and how) your advice on the best performing approach changes as you change the stiffness of the problem.\n",
    "\n",
    "</div>"
   ]
  }
 ],
 "metadata": {
  "celltoolbar": "Slideshow",
  "kernelspec": {
   "display_name": "Python 3",
   "language": "python",
   "name": "python3"
  },
  "language_info": {
   "codemirror_mode": {
    "name": "ipython",
    "version": 3
   },
   "file_extension": ".py",
   "mimetype": "text/x-python",
   "name": "python",
   "nbconvert_exporter": "python",
   "pygments_lexer": "ipython3",
   "version": "3.7.3"
  },
  "latex_envs": {
   "LaTeX_envs_menu_present": true,
   "autoclose": true,
   "autocomplete": true,
   "bibliofile": "biblio.bib",
   "cite_by": "apalike",
   "current_citInitial": 1,
   "eqLabelWithNumbers": true,
   "eqNumInitial": 1,
   "hotkeys": {
    "equation": "Ctrl-E",
    "itemize": "Ctrl-I"
   },
   "labels_anchors": false,
   "latex_user_defs": false,
   "report_style_numbering": false,
   "user_envs_cfg": true
  },
  "toc": {
   "base_numbering": 1,
   "nav_menu": {},
   "number_sections": true,
   "sideBar": true,
   "skip_h1_title": false,
   "title_cell": "Table of Contents",
   "title_sidebar": "Contents",
   "toc_cell": true,
   "toc_position": {},
   "toc_section_display": true,
   "toc_window_display": false
  }
 },
 "nbformat": 4,
 "nbformat_minor": 1
}
