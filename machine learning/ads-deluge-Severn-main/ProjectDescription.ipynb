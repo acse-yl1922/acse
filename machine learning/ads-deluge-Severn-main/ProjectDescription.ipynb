{
 "cells": [
  {
   "cell_type": "markdown",
   "metadata": {
    "slideshow": {
     "slide_type": "slide"
    }
   },
   "source": [
    "\n",
    "# ADS Project 1: TheDeluge - Flood Risk in the UK\n",
    "\n",
    "[James Percival](https://www.imperial.ac.uk/people/j.percival)\n",
    "[Parastoo Salah](https://www.imperial.ac.uk/people/p.salah)\n",
    "and\n",
    "[Marijan Beg](https://www.imperial.ac.uk/people/marijan.beg)\n"
   ]
  },
  {
   "cell_type": "markdown",
   "metadata": {
    "slideshow": {
     "slide_type": "notes"
    }
   },
   "source": [
    "## Synopsis:\n",
    "\n",
    "Given the global and UK distribution of human habitation, flooding is one of the most common and impactful natural distasters which can occur. [Analysis of satellite data](https://doi.org/10.1038/s41586-021-03695-w) coupled with [predictions on future changes](https://www.ipcc.ch/report/ar5/syr/) to the climate suggest this is an issue which will only get more frequent and severe.\n",
    "\n",
    "Flooding can occur from a number of sources:\n",
    "\n",
    "- Surface water (from rainfall run-off, or from the fresh or dirty water systems)\n",
    "- Rivers, due to blockage or excess rainfall\n",
    "- Seas, due to sea level rise or storm surge.\n",
    "\n",
    "![Flooding in York, UK](images/York_Floods_2015.jpg)\n",
    "_picture taken by [J. Scott](https://flickr.com/photos/60539443@N05/23675629939), used under [CC-BY](https://creativecommons.org/licenses/by/2.0/deed.en)_\n",
    "\n",
    "This week we will concentrate on flooding ascribed to the latter two sources. Currently flood risk from rivers and seas in the UK is assessed in a number of ways using topographic data, large, complex numerical models and a large degree of human experience. It would be useful to have rapid tools leveraging ML teachniques to update risk assessments in piecemeal as new data is obtained.\n",
    "\n",
    "The purpose of this exercise is to (a) develop prediction/classification routines for flood probability and impact for the UK, and (b) use this tool, together with rainfall and river level to provide a holistic tool to assess and analyse flood risk.\n"
   ]
  },
  {
   "cell_type": "markdown",
   "metadata": {
    "slideshow": {
     "slide_type": "notes"
    }
   },
   "source": [
    "## Problem definition\n",
    "\n",
    "### Datasets\n",
    "\n",
    "Samble datasets have been provided for you in the `flood_tools/resources` folder. These represent a subset of the test data which will be applied to your model.\n",
    "\n",
    "#### Postcode data\n",
    "\n",
    "Three `.csv` files, `postcodes_sampled.csv`, `postcodes_unlabelled.csv` and `households per sector.csv` deal with information indexed by postcode, or postcode sector.\n",
    "\n",
    "The fully labelled `postcodes_sampled.csv` data provides a sample of labelled data for postcodes in England. The column headings are:\n",
    "\n",
    "- `postcode`: The full unit postcode for the row.\n",
    "- `sector`: The postcode sector for the row.\n",
    "- `easting`: The OS easting (in m) for the centroid of this postcode.\n",
    "- `northing`: The OS easting (in m) for the centroid of this postcode.\n",
    "- `altitude`: The height (in m) above sea level for the centroid of this postcode.`\n",
    "- `localAuthority` The Local Authority governing this postcode\n",
    "- `riskLabel` The probability class for flood risk for the postcode\n",
    "- `medianPrice` A typical house price (in £) for this postcode.\n",
    "\n",
    "The approximate probabilities of flooding for the ten classes (in terms of the likelihood of at least one event in a given year) can be assumed to be:\n",
    "\n",
    "| Class | Flood event|\n",
    "|:-----:| :---------:|\n",
    "| 10  | 5% |\n",
    "| 9   | 4% |\n",
    "| 8   | 3% |\n",
    "| 7   | 2%|\n",
    "| 6   | 1.5% |\n",
    "| 5   | 1% |\n",
    "| 4   | 0.5% |\n",
    "| 3 |  0.1% |\n",
    "| 2 | 0.05% |\n",
    "| 1 | 0.1% |\n",
    "\n",
    "So the lowest risk class expects one event in 1000 years (or longer) and the highest risk class expects one event in 20 years (or sooner).\n",
    "\n",
    "The `postcodes_unlabelled.csv` file in the `\\flood_tool/resources` directory provides an example of the input format to expect for unlabelled data. This shares its columns with the first 6 of the `postcodes_sampled.csv` file, but doesn't have risk class or house price data.\n",
    "\n",
    "The `households per sector.csv` file contains information on the number of households in each postcode at the sector level, as well as the number of postcode units in each sector. This is a component of the impact factors involved in a flooding event.\n",
    "\n",
    "#### Rain, river and tidal data\n",
    "\n",
    "The `typical_day.csv` and `wet_day.csv` files provide examples of UK rainfall information and river level taken from UK Environment Agency data. The columns are\n",
    "\n",
    "- `dateTime` The time for the reference.\n",
    "- `stationReference` The short code for the station\n",
    "- `parameter` The property being measured\n",
    "- `qualifier` Addditonal information on the measurement\n",
    "- `unitName` The unit of measurement, either millimeters (`mm`) for rain data or meters above a notional stage depth (mASD) for river data\n",
    "- `value` The actual measurement.\n",
    "\n",
    "The rainfall data is primarily from tipping bucket rain gauges, which capture the height of the water column which has fallen at a given location over the 15 minute measurement period. River data is the instantaneous height of the river, with 0m being a \"standard\" height, and tidal data is with reference to the long term mean sea level at Newlyn.\n",
    "\n",
    "As a point of reference, one typical scale for rainfall is\n",
    "\n",
    "| rainfall | classifier |\n",
    "|:--------:|:----------:|\n",
    "| less than 2 mm per hour  | slight |\n",
    "| 2mm to 4 mm per hour | moderate |\n",
    "| 4mm to 50 mm per hour | heavy |\n",
    "| more than 50mm per hour | violent |\n",
    "\n",
    "although for flood risk both intensity and total quantity are factors. River levels vary naturally, but significant changes in water level and high existing states are both risk factors.\n",
    "\n",
    "The `stations.csv` file contains additional information on the stations reporting data in the previous two files, namely the station name, latitude and longitude, as well as maximums, minimums and 95% data limits for the river stage measurements. More information is available via the Environment Agency API at a URI in the form\n",
    "\n",
    "```\n",
    "https://environment.data.gov.uk/flood-monitoring/id/stations/{stationReference}\n",
    "```\n",
    "\n",
    "### Definition of risk\n",
    "\n",
    "For this project flood risk is defined by combining both probability of a flooding event and the impact of an event (for which property value is a proxy). You may use a risk score defined as \n",
    "\n",
    "$$ R := 0.05 \\times (\\textrm{total property value}) \\times(\\textrm{flood probability}) $$\n",
    "\n",
    "Potential additional considerations are the number of households impacted and the extent of the local area in which flooding appears likely.\n"
   ]
  },
  {
   "cell_type": "markdown",
   "metadata": {
    "slideshow": {
     "slide_type": "slide"
    }
   },
   "source": [
    "## Challenge\n",
    "\n",
    "Your task is to develop a Python program with two main features: \n",
    "\n",
    "1. The ability to clasify flood risk for UK postcodes & locations based on a subset of labelled data.\n",
    "2. The ability to visualize and analyse rainfall data in conjunction with the above tool to present risk information to the user.\n",
    "\n",
    "In the following, we describe the functionality that we would like you to incorporate into these features. \n",
    "\n",
    "### Risk Tool\n",
    "\n",
    "#### Core functionality\n",
    "\n",
    "Your tool must:\n",
    "\n",
    "1. Convert between UK ordnance survey easting/northing coordinates and GPS latitude & longitude\n",
    "2. Provide at least one classifier/regression for postcodes in England into a ten class flood probability scale based on provided labelled samples.\n",
    "3. Provide a regression tool for median house price for postcodes in England, given sampled data.\n",
    "4. Provide a cregression tool & classifier taking in an arbitrary location and predicting the Local Authority and flood risk.\n",
    "4. Calculate a predicted risk for input postcodes.\n",
    "\n",
    "Class method interfaces for this core functionality has been specified in the skeleton `flood_tool` package. These core intefaces will be used during the automated scoring run during the week, and should only be updated if requested by an instructor.\n"
   ]
  },
  {
   "cell_type": "markdown",
   "metadata": {
    "slideshow": {
     "slide_type": "slide"
    }
   },
   "source": [
    "#### Additional functionality\n",
    "\n",
    "You should also develop a simple interface for a user to interact with your tool (e.g., jupyter notebook, command-line arguments or example python scripts) and document its usage appropriately.\n"
   ]
  },
  {
   "cell_type": "markdown",
   "metadata": {},
   "source": [
    "### Data visualiser\n",
    "\n",
    "#### Core functionality\n",
    "\n",
    "Your visualiser must present the information required for the previous section. It should also use rainfall and river data, in the format provided in the example .csv files (and if you choose, via the API) to indicate potential areas at risk (i.e with rainfall, river levels or tides significantly above normal), as well as the potential impact of a flooding event.\n",
    "\n",
    "#### Additional functionality\n",
    "\n",
    "You may extend your visualiser in any appropriate direction (if you're unsure, please consult with an instructor). Some potential directions include:\n",
    "1. Adding the ability to interact with live rain data (you must still have an offline mode)\n",
    "2. Adding additional data sources\n"
   ]
  },
  {
   "cell_type": "markdown",
   "metadata": {
    "slideshow": {
     "slide_type": "slide"
    }
   },
   "source": [
    "## Assessment\n",
    "\n",
    "The **deadline** for software submission is **Friday 25th November, 12:00 pm (Noon) GMT**.\n",
    "\n",
    "### Software (70 marks)\n",
    "\n",
    "Your software will be assessed primarily on functionality (**30 marks**), performance (**20 marks**) and sustainability (**20 marks**). Here sustainability can be interpretted as how easy it would be for a new group of students to maintain or extend your repository.\n",
    "\n",
    "Functionality (**30 marks**): Your software will be scored, partially based on its ability to perform a number of automated tests. These will:\n",
    "\n",
    "1. Confirm the accuracy of your geographic coordinate translations.\n",
    "2. Score your classification of flood probabilities for UK postcodes, using an approach based on the metric described below.\n",
    "3. Score your regression routines for median house prices for UK postcodes, using an approach based on the root mean square error.\n",
    "\n",
    "Indicative scores for the automated parts of the functionality and performance will be computed for these tests at two or three points during the week of the project. Note that the marks for Functionality and Performance will be based on these scores (i.e., higher score implies higher mark), but not necessarily in a linear mapping.\n",
    "\n",
    "||1|2|3|4|5|6|7|8|9|10\n",
    "|:-:|:-:|:-:|:-:|:-:|:-:|:-:|:-:|:-:|:-:|:-:|\n",
    "|1|100| 80| 60| 60| 30| 0| -30| -600| -1800| -2400|\n",
    "|2|80| 100| 80| 90| 60| 30| 0| -300| -1200| -1800|\n",
    "|3|60| 80| 100| 120| 90| 60| 30| 0|  -600| -1200|\n",
    "|4|40| 60| 80|  150| 120| 90| 60| 300| 0|-600|\n",
    "|5|20| 40| 60| 120| 150| 120| 90| 600| 600| 0|\n",
    "|6|0| 20| 40| 90| 120| 150| 120| 900| 1200| 600|\n",
    "|7|-20| 0| 20| 60| 90| 120| 150| 1200| 1800| 1200|\n",
    "|8|-40| -20| 0| 30| 60| 90| 120| 1500| 2400| 1800|\n",
    "|9|-60| -40| -20| 0| 30| 60| 90| 1200| 3000| 2400|\n",
    "|10|-80| -60| -40| -30| 0| 30| 60| 900| 2400| 3000|\n",
    "\n",
    "The visualiser functionality will be assessed manually at the end of the week.\n",
    "\n",
    "Sustainability (**20 marks**): As with all software projects, you should employ all the elements of best practice in software development that you have learned so far. A GitHub repository will be created for your project to host your software. The quality and sustainability of your software and its documentation will be assessed based on your final repository and how it evolves during the week. Specific attention will be given to the following elements:\n",
    "\n",
    "1. Installation and usage instructions\n",
    "2. Documentation (in HTML / PDF format). Note that a template SPHINX documentation framework has been provided for you as a starting point for your documentation.\n",
    "3. Coding style\n",
    "4. Quality and coverage of automatic testing framework\n",
    "5. General repository usage\n",
    "6. Licensing\n",
    "\n",
    "Please refer to the module handbook for more information about the assessment of software quality."
   ]
  },
  {
   "cell_type": "markdown",
   "metadata": {
    "collapsed": true,
    "slideshow": {
     "slide_type": "slide"
    }
   },
   "source": [
    "### Presentation & One page  (20 marks)\n",
    "\n",
    "Your project will also be assessed on the basis of a one page report & 15-minute video presentation that you must upload to your assigned group channel on Teams before the deadline of **Friday 17th December, 4:00 pm GMT**.\n",
    "\n",
    "#### Report\n",
    "\n",
    "Your report should be up to 1 page of text (1,800 characters) in no less than 11pt text, along with up to 4 images (no more than 3 pages in total) It should be uploaded in .pdf form to your final repository, with the title `report.pdf`. You will not be penalised if your report is short providing it covers the details. You can use any software you wish to produce it.\n",
    "\n",
    "The report should cover the following questions\n",
    "\n",
    "1. What regression/classification method(s) did you use. Include technical details and/or references. Which methods did you investigate & reject?\n",
    "2. Which features in the data did you find were important for your regressions? Which were unimportant?\n",
    "3. Demonstrate your data vizualization software applied to the \"wet day\" data, or another significant event\n",
    "\n",
    "#### Presentation\n",
    "\n",
    "Your presentation should be approximate15 minutes long, and cover broadly similar details to the report (you can include some information in one but not the other). All team members should generally contribute, but not all need to be recorded on camera.\n",
    "\n",
    "You can record the presentation in any software that you like. If in doubt, MS Teams will work reasonably, and is readily available to you.\n"
   ]
  },
  {
   "cell_type": "markdown",
   "metadata": {
    "slideshow": {
     "slide_type": "slide"
    }
   },
   "source": [
    "### Teamwork (peer assessment; 10 marks)\n",
    "\n",
    "After the presentations, you will complete a self-evaluation of your group's performance. This will inform the teamwork component of your mark. Please refer to the module guidelines for more information about the assessment of teamwork."
   ]
  },
  {
   "cell_type": "markdown",
   "metadata": {
    "slideshow": {
     "slide_type": "slide"
    }
   },
   "source": [
    "## Technical requirements\n",
    "\n",
    "* You should use the assigned GitHub repository exclusively for your project\n",
    "* Your software must be written to work correctly in Python 3.9\n",
    "* You are free to import anything from the standard python libraries as well as numpy, matplotlib, pandas, scipy, mpltools and sklearn and sympy (see the `requirements.txt` for the full list of preapproved packages in the environment). You should submit a request for other packages. Requests should be submitted by 5pm GMT on Wednesday, and will be announced to all groups.\n",
    "* You have been given some geographic mapping examples using folium, but can request to use an alternative mapping package if you've used it previously. Requests should be submitted by 5pm GMT on Wednesday.\n",
    "* You are not allowed to import other python packages without authorization (if in doubt, please query with the Module Coordinator)\n",
    "* You can assume that users of your software will have pytest installed, so this does not need to be part of your repository\n",
    "* You should use GitHub Actions for any automated testing that you decide to implement. An example workflow is given in your template repository.\n",
    "* You do not need to make a Graphical User Interface for your software (although you can if you choose): the program can be run in the command line, in a Python 3.9 environment, or via examples in a notebook."
   ]
  },
  {
   "cell_type": "markdown",
   "metadata": {},
   "source": []
  }
 ],
 "metadata": {
  "celltoolbar": "Slideshow",
  "hide_input": false,
  "kernelspec": {
   "display_name": "Python 3 (ipykernel)",
   "language": "python",
   "name": "python3"
  },
  "language_info": {
   "codemirror_mode": {
    "name": "ipython",
    "version": 3
   },
   "file_extension": ".py",
   "mimetype": "text/x-python",
   "name": "python",
   "nbconvert_exporter": "python",
   "pygments_lexer": "ipython3",
   "version": "3.10.8"
  },
  "toc": {
   "base_numbering": 1,
   "nav_menu": {},
   "number_sections": true,
   "sideBar": true,
   "skip_h1_title": false,
   "title_cell": "Table of Contents",
   "title_sidebar": "Contents",
   "toc_cell": false,
   "toc_position": {},
   "toc_section_display": true,
   "toc_window_display": false
  },
  "vscode": {
   "interpreter": {
    "hash": "0a54084e6b208ee8d1ce3989ffc20924477a5f55f5a43e22e699a6741623861e"
   }
  }
 },
 "nbformat": 4,
 "nbformat_minor": 1
}
